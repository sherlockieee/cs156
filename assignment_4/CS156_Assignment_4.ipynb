{
  "nbformat": 4,
  "nbformat_minor": 0,
  "metadata": {
    "colab": {
      "name": "CS156 Assignment 4.ipynb",
      "provenance": [],
      "mount_file_id": "1eH64yv0-uqzyYeFN5ALxqi1vbAAPjTir",
      "authorship_tag": "ABX9TyPJmIYE9xxUgi4Yi5rns96n",
      "include_colab_link": true
    },
    "kernelspec": {
      "name": "python3",
      "display_name": "Python 3"
    },
    "language_info": {
      "name": "python"
    },
    "accelerator": "GPU"
  },
  "cells": [
    {
      "cell_type": "markdown",
      "metadata": {
        "id": "view-in-github",
        "colab_type": "text"
      },
      "source": [
        "<a href=\"https://colab.research.google.com/github/sherlockieee/cs156/blob/main/CS156_Assignment_4.ipynb\" target=\"_parent\"><img src=\"https://colab.research.google.com/assets/colab-badge.svg\" alt=\"Open In Colab\"/></a>"
      ]
    },
    {
      "cell_type": "code",
      "execution_count": 10,
      "metadata": {
        "id": "wk9mbfNb40pM"
      },
      "outputs": [],
      "source": [
        "import numpy as np\n",
        "import matplotlib.pyplot as plt\n",
        "from glob import glob\n",
        "from PIL import Image\n",
        "from skimage.io import imread_collection\n",
        "from skimage.transform import resize\n",
        "\n",
        "from sklearn.svm import SVC\n",
        "from sklearn.model_selection import train_test_split\n",
        "from sklearn.discriminant_analysis import LinearDiscriminantAnalysis\n",
        "from sklearn import decomposition\n"
      ]
    },
    {
      "cell_type": "code",
      "source": [
        "import os\n",
        "os.chdir(\"/content/drive/My Drive/CS156/Assignment 4/\")"
      ],
      "metadata": {
        "id": "I-YF_zWC5bLm"
      },
      "execution_count": 2,
      "outputs": []
    },
    {
      "cell_type": "markdown",
      "source": [
        "## Uploading and splitting dataset"
      ],
      "metadata": {
        "id": "WUgBxmNy6G1N"
      }
    },
    {
      "cell_type": "code",
      "source": [
        "def preprocessing(path, img_length = 250, img_width = 250):\n",
        "    dir = imread_collection(path + '/*')\n",
        "    dir_resized = [resize(dir[i],(img_length,img_width), mode='constant', anti_aliasing=True, anti_aliasing_sigma=None) for i in range(len(dir))]\n",
        "    return np.array(dir_resized)\n",
        "\n",
        "men_arr = preprocessing('man_200')\n",
        "women_arr = preprocessing('woman_200')\n",
        "\n",
        "print(men_arr.shape)\n",
        "print(women_arr.shape)"
      ],
      "metadata": {
        "colab": {
          "base_uri": "https://localhost:8080/"
        },
        "id": "_PtIqtjM5rQf",
        "outputId": "90929402-98a5-4f15-ced7-2e401bd7d2df"
      },
      "execution_count": 3,
      "outputs": [
        {
          "output_type": "stream",
          "name": "stdout",
          "text": [
            "(249, 250, 250, 3)\n",
            "(288, 250, 250, 3)\n"
          ]
        }
      ]
    },
    {
      "cell_type": "code",
      "source": [
        "men_labels = np.zeros(len(men_arr))\n",
        "women_labels = np.ones(len(women_arr))\n",
        "\n",
        "X = np.concatenate((men_arr, women_arr), axis=0)\n",
        "X = X.reshape(X.shape[0], np.product(X.shape[1:]))\n",
        "y = np.concatenate((men_labels, women_labels), axis=0)\n",
        "\n",
        "\n",
        "print(X.shape)\n",
        "print(y.shape"
      ],
      "metadata": {
        "colab": {
          "base_uri": "https://localhost:8080/"
        },
        "id": "PAVTXFSl8bc-",
        "outputId": "fc269336-04fa-4c8d-b26d-fd8487bcef90"
      },
      "execution_count": 4,
      "outputs": [
        {
          "output_type": "stream",
          "name": "stdout",
          "text": [
            "(537, 187500)\n",
            "(537,)\n"
          ]
        }
      ]
    },
    {
      "cell_type": "code",
      "source": [
        "X_train,X_test,y_train,y_test = train_test_split(X, y, test_size=0.2, stratify = y)\n",
        "\n",
        "#split the training set further for valdiation\n",
        "X_train, X_val, y_train, y_val = train_test_split(X_train, y_train, test_size=0.2, stratify=y_train)"
      ],
      "metadata": {
        "id": "SQtWYmiDFijf"
      },
      "execution_count": 5,
      "outputs": []
    },
    {
      "cell_type": "code",
      "source": [
        "kernels = ['linear', 'poly', 'rbf']\n",
        "Cs = [1, 10, 100]\n",
        "gammas = ['auto', 0.001, 0.01]\n",
        "\n",
        "max_validation_accuracy = 0\n",
        "\n",
        "\n",
        "for kernel in kernels:\n",
        "    for C in Cs:\n",
        "        for gamma in gammas:\n",
        "            clf = SVC(gamma=gamma, kernel = kernel, C = C).fit(X_train, y_train)\n",
        "      \n",
        "            train_accuracy = np.mean(clf.predict(X_train) == y_train.T)\n",
        "            val_accuracy = np.mean(clf.predict(X_val) == y_val.T)\n",
        "            test_accuracy = np.mean(clf.predict(X_test) == y_test.T)\n",
        "            if val_accuracy > max_validation_accuracy:\n",
        "                max_validation_accuracyuracy = val_accuracy\n",
        "                params = [kernel, C, gamma] \n",
        "                accuracy = [train_accuracy, val_accuracy, test_accuracy]\n",
        "\n"
      ],
      "metadata": {
        "colab": {
          "base_uri": "https://localhost:8080/"
        },
        "id": "Asuk34dfFwP4",
        "outputId": "92b67bea-c6f8-43c9-8a10-c457d535b4a5"
      },
      "execution_count": 6,
      "outputs": [
        {
          "output_type": "stream",
          "name": "stdout",
          "text": [
            "Best SVM parameters: kernel rbf, C: 100, gamma: 0.01\n",
            "Train accuracy: 1.0\n",
            "Validation accuracy: 0.5348837209302325\n",
            "Test accuracy: 0.5370370370370371\n"
          ]
        }
      ]
    },
    {
      "cell_type": "code",
      "source": [
        "kernel, C, gamma = params\n",
        "\n",
        "print(f\"Best SVM parameters: kernel {kernel}, C: {C}, gamma: {gamma}\")\n",
        "print(f\"Train accuracy: {accuracy[0]}\")\n",
        "print(f\"Validation accuracy: {accuracy[1]}\")\n",
        "print(f\"Test accuracy: {accuracy[2]}\")"
      ],
      "metadata": {
        "colab": {
          "base_uri": "https://localhost:8080/"
        },
        "id": "gIscG_pX_DwF",
        "outputId": "37d718a1-aa3f-4e80-dcae-e2bcbb2d95a9"
      },
      "execution_count": 7,
      "outputs": [
        {
          "output_type": "stream",
          "name": "stdout",
          "text": [
            "Best SVM parameters: kernel rbf, C: 100, gamma: 0.01\n",
            "Train accuracy: 1.0\n",
            "Validation accuracy: 0.5348837209302325\n",
            "Test accuracy: 0.5370370370370371\n"
          ]
        }
      ]
    },
    {
      "cell_type": "markdown",
      "source": [
        "We see that the best SVM parameters are using the RBF kernel, with C = 100 and gamma = 0.01. Thus we would use this value for the rest of the comparison to ensure a fair result.\n"
      ],
      "metadata": {
        "id": "WK9W8Kf29O2f"
      }
    },
    {
      "cell_type": "markdown",
      "source": [
        "## Pricipal Component Analysis"
      ],
      "metadata": {
        "id": "ENrH7JAz9rFo"
      }
    },
    {
      "cell_type": "code",
      "source": [
        "#perform PCA analysis with a high variance\n",
        "#so that most of the data is explained\n",
        "pca = decomposition.PCA(0.99)\n",
        "pca.fit(X_train)\n",
        "\n",
        "#Cumulative explained variance plot\n",
        "plt.plot(np.cumsum(pca.explained_variance_ratio_))\n",
        "plt.xlabel('Total components')\n",
        "plt.ylabel('Cumulative variance explained')\n",
        "plt.title(\"Cumulative explained variance plot\")\n",
        "plt.show()"
      ],
      "metadata": {
        "colab": {
          "base_uri": "https://localhost:8080/",
          "height": 295
        },
        "id": "uhq0XSubJlc8",
        "outputId": "37b1a386-4d8b-4c99-f223-d1a8647efa93"
      },
      "execution_count": 11,
      "outputs": [
        {
          "output_type": "display_data",
          "data": {
            "text/plain": [
              "<Figure size 432x288 with 1 Axes>"
            ],
            "image/png": "[encoded data removed]"
          },
          "metadata": {
            "needs_background": "light"
          }
        }
      ]
    },
    {
      "cell_type": "code",
      "source": [
        "#Scree plot\n",
        "PC_values = np.arange(1, 101)\n",
        "plt.plot(PC_values, pca.explained_variance_ratio_[:100], 'o-')\n",
        "plt.title('Scree Plot')\n",
        "plt.xlabel('Principal component')\n",
        "plt.ylabel('Variance explained')\n",
        "plt.show()"
      ],
      "metadata": {
        "colab": {
          "base_uri": "https://localhost:8080/",
          "height": 295
        },
        "id": "mEoLYVN-94xG",
        "outputId": "b9baaed9-9d89-44ed-81be-7ba5f15d7bd0"
      },
      "execution_count": 12,
      "outputs": [
        {
          "output_type": "display_data",
          "data": {
            "text/plain": [
              "<Figure size 432x288 with 1 Axes>"
            ],
            "image/png": "[encoded data removed]"
          },
          "metadata": {
            "needs_background": "light"
          }
        }
      ]
    },
    {
      "cell_type": "code",
      "source": [
        "print(f\"10 components explain {np.sum(pca.explained_variance_ratio_[:10]) * 100:.2f}% variance\")\n",
        "print(f\"50 components explain {np.sum(pca.explained_variance_ratio_[:50]) * 100:.2f}% variance\")\n",
        "print(f\"100 components explain {np.sum(pca.explained_variance_ratio_[:100]) * 100:.2f}% variance\")\n",
        "print(f\"200 components explain {np.sum(pca.explained_variance_ratio_[:200]) * 100:.2f}% variance\")\n",
        "print(f\"300 components explain {np.sum(pca.explained_variance_ratio_[:300]) * 100:.2f}% variance\")\n"
      ],
      "metadata": {
        "colab": {
          "base_uri": "https://localhost:8080/"
        },
        "id": "wIkIXxOJ97pg",
        "outputId": "85656198-3c0b-4daf-9010-e74da7e02521"
      },
      "execution_count": 13,
      "outputs": [
        {
          "output_type": "stream",
          "name": "stdout",
          "text": [
            "10 components explain 64.47% variance\n",
            "50 components explain 82.49% variance\n",
            "100 components explain 89.69% variance\n",
            "200 components explain 96.31% variance\n",
            "300 components explain 99.01% variance\n"
          ]
        }
      ]
    },
    {
      "cell_type": "code",
      "source": [
        "#Since 50 components explain roughly 83% of variances\n",
        "pca = decomposition.PCA(n_components=50)\n",
        "pca.fit(X_train)\n",
        "#use PCA to reduce dimensions for X\n",
        "pca_X_train = pca.transform(X_train)\n",
        "pca_X_val = pca.transform(X_val)\n",
        "pca_X_test = pca.transform(X_test)"
      ],
      "metadata": {
        "id": "tK-bZlfq97g0"
      },
      "execution_count": 14,
      "outputs": []
    },
    {
      "cell_type": "code",
      "source": [
        "\n",
        "clf = SVC(gamma=gamma, kernel = kernel, C = C).fit(pca_X_train, y_train)\n",
        "      \n",
        "pca_train_accuracy = np.mean(clf.predict(pca_X_train) == y_train.T)\n",
        "pca_val_accuracy = np.mean(clf.predict(pca_X_val) == y_val.T)\n",
        "pca_test_accuracy = np.mean(clf.predict(pca_X_test) == y_test.T)\n",
        "\n",
        "print(f\"Train accuracy: {pca_train_accuracy}\")\n",
        "print(f\"Validation accuracy: {pca_val_accuracy}\")\n",
        "print(f\"Test accuracy: {pca_test_accuracy}\")\n"
      ],
      "metadata": {
        "colab": {
          "base_uri": "https://localhost:8080/"
        },
        "id": "5gYR41vV-kGy",
        "outputId": "bc28fa2f-41c3-4a74-a87c-16c8518f2471"
      },
      "execution_count": 16,
      "outputs": [
        {
          "output_type": "stream",
          "name": "stdout",
          "text": [
            "Train accuracy: 1.0\n",
            "Validation accuracy: 0.5348837209302325\n",
            "Test accuracy: 0.5370370370370371\n"
          ]
        }
      ]
    },
    {
      "cell_type": "markdown",
      "source": [
        "## Linear Discriminant Analysis\n",
        "\n",
        "\n"
      ],
      "metadata": {
        "id": "Cnqr7AZj_NTA"
      }
    },
    {
      "cell_type": "code",
      "source": [
        "lda = LinearDiscriminantAnalysis(n_components = 1)\n",
        "lda.fit(X_train, y_train)\n",
        "\n",
        "lda_X_train = lda.transform(X_train)\n",
        "lda_X_val = lda.transform(X_val)\n",
        "lda_X_test = lda.transform(X_test)"
      ],
      "metadata": {
        "id": "incrvPng_PJ_"
      },
      "execution_count": 18,
      "outputs": []
    },
    {
      "cell_type": "code",
      "source": [
        "clf = SVC(gamma=gamma, kernel = kernel, C = C).fit(lda_X_train, y_train)\n",
        "      \n",
        "lda_train_accuracy = np.mean(clf.predict(lda_X_train) == y_train.T)\n",
        "lda_val_accuracy = np.mean(clf.predict(lda_X_val) == y_val.T)\n",
        "lda_test_accuracy = np.mean(clf.predict(lda_X_test) == y_test.T)\n",
        "\n",
        "print(f\"Train accuracy: {lda_train_accuracy}\")\n",
        "print(f\"Validation accuracy: {lda_val_accuracy}\")\n",
        "print(f\"Test accuracy: {lda_test_accuracy}\")\n"
      ],
      "metadata": {
        "colab": {
          "base_uri": "https://localhost:8080/"
        },
        "id": "R6_xxE7BJgND",
        "outputId": "be252f81-1bab-4f26-d0fe-52bd35ff7af3"
      },
      "execution_count": 19,
      "outputs": [
        {
          "output_type": "stream",
          "name": "stdout",
          "text": [
            "Train accuracy: 0.8833819241982507\n",
            "Validation accuracy: 0.5465116279069767\n",
            "Test accuracy: 0.5925925925925926\n"
          ]
        }
      ]
    },
    {
      "cell_type": "markdown",
      "source": [
        "### SVM with full dataset\n",
        "- Train accuracy: 1.0\n",
        "- Validation accuracy: 0.5348837209302325\n",
        "- Test accuracy: 0.5370370370370371\n",
        "\n",
        "### SVM with PCA\n",
        "- Train accuracy: 1.0\n",
        "- Validation accuracy: 0.5348837209302325\n",
        "- Test accuracy: 0.5370370\n",
        "\n",
        "### SVM with LDA\n",
        "- Train accuracy: 0.8833819241982507\n",
        "- Validation accuracy: 0.5465116279069767\n",
        "- Test accuracy: 0.5925925925925926370370371\n",
        "\n",
        "\n",
        "We see that there's no difference between support vector machines for the full dataset versus when we use principal component analysis for reduction of dimensions. This is somewhat counterintuitive because we would expect that PCA would potentially perform better because we reduce the variance/ noise of the model and potentially have better results.\n",
        "\n",
        "Training with SVM & LDA is better than training with PCA and with full dataset (test accuracy of 0.59 vs 0.53). This is probably because LDA already creates a hyperplane that separates the two data best, which makes training SVM more accurate.\n",
        "\n",
        "Lastly, all 3 methods significantly overfit the training data (SVM with full dataset and with PCA has a training accuracy of 1, in particular), thus we could probably have some improvement with the process. \n",
        "\n",
        "\n",
        "\n"
      ],
      "metadata": {
        "id": "P1BgnYCeLJwu"
      }
    },
    {
      "cell_type": "code",
      "source": [
        ""
      ],
      "metadata": {
        "id": "CBNiKKflKmXL"
      },
      "execution_count": null,
      "outputs": []
    }
  ]
}