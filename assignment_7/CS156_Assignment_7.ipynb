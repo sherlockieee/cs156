{
  "nbformat": 4,
  "nbformat_minor": 0,
  "metadata": {
    "colab": {
      "name": "CS156 Assignment 7.ipynb",
      "provenance": [],
      "toc_visible": true,
      "mount_file_id": "1DkyVQntB7aSe0EoGwDI_BOYKKfNHA-Fs",
      "authorship_tag": "ABX9TyPhJQ3Z0L3I31QBifT6Vv4l",
      "include_colab_link": true
    },
    "kernelspec": {
      "name": "python3",
      "display_name": "Python 3"
    },
    "language_info": {
      "name": "python"
    }
  },
  "cells": [
    {
      "cell_type": "markdown",
      "metadata": {
        "id": "view-in-github",
        "colab_type": "text"
      },
      "source": [
        "<a href=\"https://colab.research.google.com/github/sherlockieee/cs156/blob/main/assignment_7/CS156_Assignment_7.ipynb\" target=\"_parent\"><img src=\"https://colab.research.google.com/assets/colab-badge.svg\" alt=\"Open In Colab\"/></a>"
      ]
    },
    {
      "cell_type": "markdown",
      "source": [
        "Part 1"
      ],
      "metadata": {
        "id": "w8IFby6INqV6"
      }
    },
    {
      "cell_type": "code",
      "execution_count": 20,
      "metadata": {
        "id": "03geMWN8Cv8n"
      },
      "outputs": [],
      "source": [
        "import random\n",
        "import numpy as np\n",
        "import os\n",
        "\n",
        "np.random.seed(2022)"
      ]
    },
    {
      "cell_type": "code",
      "source": [
        "os.chdir('/content/drive/My Drive/CS156/symbol')\n",
        "files = os.listdir()\n",
        "files"
      ],
      "metadata": {
        "colab": {
          "base_uri": "https://localhost:8080/"
        },
        "id": "5w5MvfJNKzSa",
        "outputId": "1e2b6ba8-064f-491d-b4bf-7e458f23e5b7"
      },
      "execution_count": 5,
      "outputs": [
        {
          "output_type": "execute_result",
          "data": {
            "text/plain": [
              "['language-training-langA-17',\n",
              " 'language-training-langC-10',\n",
              " 'language-training-langA-28',\n",
              " 'language-training-langB-3',\n",
              " 'language-training-langC-14',\n",
              " 'language-training-langA-7',\n",
              " 'language-training-langC-1',\n",
              " 'language-training-langB-16',\n",
              " 'language-training-langB-14',\n",
              " 'language-training-langB-26',\n",
              " 'language-training-langA-26',\n",
              " 'language-training-langC-5',\n",
              " 'language-training-langA-9',\n",
              " 'language-training-langA-25',\n",
              " 'language-training-langB-11',\n",
              " 'language-training-langA-15',\n",
              " 'language-training-langB-0',\n",
              " 'language-training-langB-13',\n",
              " 'language-training-langB-10',\n",
              " 'language-training-langC-11',\n",
              " 'language-training-langC-18',\n",
              " 'language-training-langC-16',\n",
              " 'language-training-langB-6',\n",
              " 'language-training-langA-13',\n",
              " 'language-training-langB-23',\n",
              " 'language-training-langC-2',\n",
              " 'language-training-langA-3',\n",
              " 'language-training-langC-3',\n",
              " 'language-training-langB-7',\n",
              " 'language-training-langC-6',\n",
              " 'language-training-langB-20',\n",
              " 'language-training-langC-7',\n",
              " 'language-training-langB-2',\n",
              " 'language-training-langA-2',\n",
              " 'language-training-langA-22',\n",
              " 'language-training-langB-21',\n",
              " 'language-training-langA-16',\n",
              " 'language-training-langB-28',\n",
              " 'language-training-langA-27',\n",
              " 'language-training-langA-4',\n",
              " 'language-training-langB-27',\n",
              " 'language-training-langC-9',\n",
              " 'language-training-langA-0',\n",
              " 'language-training-langB-17',\n",
              " 'language-training-langB-15',\n",
              " 'language-training-langA-5',\n",
              " 'language-training-langB-9',\n",
              " 'language-training-langA-20',\n",
              " 'language-training-langC-12',\n",
              " 'language-training-langB-5',\n",
              " 'language-training-langC-4',\n",
              " 'language-training-langB-29',\n",
              " 'language-training-langB-25',\n",
              " 'language-training-langC-8',\n",
              " 'language-training-langB-4',\n",
              " 'language-training-langA-10',\n",
              " 'language-training-langC-20',\n",
              " 'language-training-langB-8',\n",
              " 'language-training-langC-0',\n",
              " 'language-training-langA-8',\n",
              " 'language-training-langC-15',\n",
              " 'language-training-langA-24',\n",
              " 'language-training-langA-18',\n",
              " 'language-training-langA-11',\n",
              " 'language-training-langA-1',\n",
              " 'language-training-langB-22',\n",
              " 'language-training-langA-29',\n",
              " 'language-training-langA-12',\n",
              " 'language-training-langB-18',\n",
              " 'language-training-langC-13',\n",
              " 'language-training-langB-24',\n",
              " 'language-training-langA-19',\n",
              " 'language-training-langB-19',\n",
              " 'language-training-langA-21',\n",
              " 'language-training-langA-14',\n",
              " 'language-training-langB-1',\n",
              " 'language-training-langA-23',\n",
              " 'language-training-langA-6',\n",
              " 'language-training-langC-17',\n",
              " 'language-training-langC-19',\n",
              " 'language-training-langB-12',\n",
              " 'language-training-langC-22',\n",
              " 'language-training-langC-25',\n",
              " 'language-test-1',\n",
              " 'language-test-6',\n",
              " 'language-test-5',\n",
              " 'language-test-8',\n",
              " 'language-test-7',\n",
              " 'language-training-langC-21',\n",
              " 'language-training-langC-26',\n",
              " 'language-test-9',\n",
              " 'language-test-4',\n",
              " 'language-training-langC-28',\n",
              " 'language-training-langC-23',\n",
              " 'language-test-3',\n",
              " 'language-test-2',\n",
              " 'language-training-langC-29',\n",
              " 'language-training-langC-24',\n",
              " 'language-training-langC-27',\n",
              " 'language-test-0',\n",
              " '.DS_Store']"
            ]
          },
          "metadata": {},
          "execution_count": 5
        }
      ]
    },
    {
      "cell_type": "code",
      "source": [
        "langA = [f for f in files if \"langA\" in f]\n",
        "langB = [f for f in files if \"langB\" in f]\n",
        "langC = [f for f in files if \"langC\" in f]\n",
        "test = [f for f in files if \"test\" in f]\n",
        "print(len(langA))"
      ],
      "metadata": {
        "colab": {
          "base_uri": "https://localhost:8080/"
        },
        "id": "RtsnLtcTL8DD",
        "outputId": "4a2e55ec-340f-4d16-d887-6b24dd50fbb5"
      },
      "execution_count": 6,
      "outputs": [
        {
          "output_type": "stream",
          "name": "stdout",
          "text": [
            "30\n"
          ]
        }
      ]
    },
    {
      "cell_type": "code",
      "source": [
        "from collections import defaultdict\n",
        "\n",
        "all_chars = [\"A\", \"o\", \"e\", \"t\", \"p\", \"g\", \"k\"]\n",
        "initial_val = 0.01\n",
        "\n",
        "def parse_text(lang):\n",
        "    words = []\n",
        "    for f in lang:\n",
        "        with open(f, 'r') as f:\n",
        "            words.append(f.read())\n",
        "    return words\n",
        "def initial_distribution(words):\n",
        "    d = defaultdict(int)\n",
        "    for word in words:\n",
        "        d[word[0]] += 1\n",
        "    return [d[key]/len(words) for key in sorted(d.keys())]\n",
        "\n",
        "\n",
        "def get_idx(key, all_chars = all_chars):\n",
        "    return all_chars.index(key)\n",
        "\n",
        "\n",
        "def get_transition_matrix(words, all_chars = all_chars, initial_val = initial_val):\n",
        "    #get all unique characters\n",
        "    n = len(all_chars)\n",
        "    M = [[initial_val]*n for _ in range(n)]\n",
        "    for word in words:\n",
        "        for (char_i,char_j) in zip(word,word[1:]):\n",
        "            i, j = get_idx(char_i), get_idx(char_j)\n",
        "            M[i][j] += 1\n",
        "\n",
        "    #now convert to probabilities:\n",
        "    for row in M:\n",
        "        s = sum(row)\n",
        "        if s > 0:\n",
        "            row[:] = [f/s for f in row]\n",
        "    return M\n",
        "\n",
        "\n",
        "def get_markov_model(lang):\n",
        "    words = parse_text(lang)\n",
        "    initial_dist = initial_distribution(words)\n",
        "    transition_matrix = get_transition_matrix(words)\n",
        "    return initial_dist, transition_matrix\n",
        "\n",
        "markov_A = get_markov_model(langA)\n",
        "markov_B = get_markov_model(langB)\n",
        "markov_C = get_markov_model(langC)\n",
        "print(markov_B)"
      ],
      "metadata": {
        "colab": {
          "base_uri": "https://localhost:8080/"
        },
        "id": "tpLqBcVrMYrx",
        "outputId": "78c1a0eb-5fc4-426d-9b62-5f375507ee9f"
      },
      "execution_count": 10,
      "outputs": [
        {
          "output_type": "stream",
          "name": "stdout",
          "text": [
            "([0.16666666666666666, 0.13333333333333333, 0.2, 0.1, 0.2, 0.1, 0.1], [[0.024072654006345198, 0.28870645195242606, 0.04061226637797525, 0.3007352609499752, 0.02858345738042612, 0.2826920474536515, 0.034597861879200685], [0.41631341836637714, 0.057045640314026654, 0.4334214077974414, 0.051342977170338554, 1.900887714562701e-05, 0.041838538597525045, 1.900887714562701e-05], [0.01978617933255187, 0.3135424463682969, 0.029672207550100978, 0.32484076433121023, 0.036733656276921774, 0.2528139873176381, 0.022610758823280182], [0.4014950197870266, 0.05737281816965225, 0.4722312501194869, 0.036343128070812705, 1.9117900089854135e-05, 0.03251954805284188, 1.9117900089854135e-05], [0.03860188208181295, 0.30747071250240066, 0.05780679854042636, 0.24985596312656047, 0.019396965623199546, 0.30747071250240066, 0.019396965623199546], [0.45249078508839696, 0.05078685412850112, 0.4083474959719249, 0.05078685412850112, 2.2071644558236038e-05, 0.03754386739355949, 2.2071644558236038e-05], [0.023450197353146046, 0.2556303691664732, 0.023450197353146046, 0.30206640352913866, 0.09310424889714419, 0.27884838634780595, 0.023450197353146046]])\n"
          ]
        }
      ]
    },
    {
      "cell_type": "code",
      "source": [
        "def classify(test, models):\n",
        "    prior_prob = 1/(len(models))\n",
        "\n",
        "    probs = [None for _ in range(len(models))]\n",
        "    for model_idx, (init_dist, transition) in enumerate(models):\n",
        "        prob = init_dist[get_idx(test[0])]\n",
        "        for i in range(1, len(test)):\n",
        "            cur_idx = get_idx(test[i])\n",
        "            prev_idx = get_idx(test[i - 1])\n",
        "            prob *= transition[cur_idx][prev_idx]\n",
        "        probs[model_idx] = prob\n",
        "    probs = [prob/sum(probs) for prob in probs]\n",
        "    return probs\n",
        "\n",
        "models = [markov_A, markov_B, markov_C]\n",
        "\n",
        "def get_name(idx):\n",
        "    return \"A\" if idx == 0 else \"B\" if idx == 1 else \"C\"\n",
        "\n",
        "test_words = parse_text(test)\n",
        "for t in test_words:\n",
        "    probs = classify(t, models)\n",
        "    print(f\"Probability distribution for {t} = {probs}.\")\n",
        "    print(f\"Predicted classes = {get_name(probs.index(max(probs)))}\")\n",
        "    print()"
      ],
      "metadata": {
        "colab": {
          "base_uri": "https://localhost:8080/"
        },
        "id": "ZhTPDCv-Mg8E",
        "outputId": "81b52948-8d0c-4ec8-b570-cba1eb58e485"
      },
      "execution_count": 12,
      "outputs": [
        {
          "output_type": "stream",
          "name": "stdout",
          "text": [
            "Probability distribution for gooooAAAAAAAAAkkkkkkooooAAAeppppppgeeeeepAAppeektetttgggogptttttttkppAAAApetAeegggtttteetttttppAAAAA = [1.9743717318264567e-67, 9.495624931546695e-94, 1.0].\n",
            "Predicted classes = C\n",
            "\n",
            "Probability distribution for kteoeoeoAoteoAgeoetoegAgeoekgeteoegetetAgeAoAttAtAteoAtetotAoAoeooegegAoetgeoAtegtAteteoAtAgegAgeAoA = [2.557392726710199e-53, 1.0, 4.921753552418561e-54].\n",
            "Predicted classes = B\n",
            "\n",
            "Probability distribution for okopottogttpetgopopotkepeppAgAgetpotpAtgookettgoketkokAgAttpgopAgtkAggAgekottgokAkopApAkopAtgtttpokp = [1.0, 4.105079574121763e-55, 2.672315133246733e-18].\n",
            "Predicted classes = A\n",
            "\n",
            "Probability distribution for oeeoppppppoooAgggggoAAoookkppeoAApeoAkAAAAAAApkpppgpppkkkkAAAAkkkkeeepeeeeeekktppppkeegggoooooooooAA = [3.52639727398868e-81, 4.432607125906688e-83, 1.0].\n",
            "Predicted classes = C\n",
            "\n",
            "Probability distribution for tgAkoggAggAtpetkpAgegAgkepepookepepekogokogetkekekekegegotgekAAkoAtpottktkApAgtpegAkAgAkpopettgApogA = [1.0, 2.800988234327821e-55, 1.4667995329705797e-28].\n",
            "Predicted classes = A\n",
            "\n",
            "Probability distribution for ApgotgAApogotgopAgegAtkAgketgAtkpAgottpopopAgpekepokpAokettttpogotpegApAgopetgAgeketkotpokokApopegAt = [1.0, 5.6396025246470705e-46, 7.076927232321746e-23].\n",
            "Predicted classes = A\n",
            "\n",
            "Probability distribution for popoktgopogettpegAtkegotkogettpApepApegtgApeogokokApetkAgegokpepketpotttpAtkopepototpApettgotokotgok = [1.0, 1.3743018593730173e-52, 1.9343679015434012e-25].\n",
            "Predicted classes = A\n",
            "\n",
            "Probability distribution for AtAgegegegAgegetoAtetAogAooAoeAtegAgeotAoAgoetAteAteoegoeogetekoAoegAoegAtegAgeotAtAoAtetAtgeggAtAto = [1.1191445722903009e-45, 1.0, 3.3771540181239956e-55].\n",
            "Predicted classes = B\n",
            "\n",
            "Probability distribution for ekogoAgkepokogoppAttpAttgeekApegepApotpAAtpetgAtpopAttpAppAtkokettkgAttggokoogApppepogeApopogetpokog = [0.9999999999931168, 3.499097846118514e-60, 6.88321452021572e-12].\n",
            "Predicted classes = A\n",
            "\n",
            "Probability distribution for pppooootgAookggggtttopAtttkkkeeggeeeeAAAgtkoAkkkkkooppppttppppppgppteoooooottkttttkkkktAAApgookkkkkp = [8.271819152604108e-61, 3.2575876952859066e-98, 1.0].\n",
            "Predicted classes = C\n",
            "\n"
          ]
        }
      ]
    },
    {
      "cell_type": "markdown",
      "source": [
        "Part 2"
      ],
      "metadata": {
        "id": "US2ASMlINsxr"
      }
    },
    {
      "cell_type": "code",
      "source": [
        "sound = str(np.loadtxt('https://course-resources.minerva.kgi.edu/uploaded_files/mke/n705lY/speaker', dtype=str))\n",
        "\n",
        "sound"
      ],
      "metadata": {
        "colab": {
          "base_uri": "https://localhost:8080/",
          "height": 196
        },
        "id": "4iqzEiAlNSan",
        "outputId": "3bc9da49-83d2-43e0-8ba0-783a7886f412"
      },
      "execution_count": 15,
      "outputs": [
        {
          "output_type": "execute_result",
          "data": {
            "text/plain": [
              "'eoggeggAeggepgpppoppogopppgoppoopegAAoAAAtAtttooepooppteeeeotpopppeeoepooopopgoooepoepotpoegogggggkeggpogopopeAtAttAoApAtttAggeAgegettttAAAAtoeeggeteoAopopotoktttpoepegpgtgAgAeeppeoooopgeggpAAAAgAtgegogoeepAtAtAAotAAAtttAtkAAAtAAktAAAtttAtAAoAtteeoopoAoAtoAAtAAApgeoeeeeoeeegteoAopeAkopgpeAgetAeeotAttAAeAAktttkAptAetAttAkAAAttAAkAAAttAAAAgAgkgogppgooApkpoAopopptotegoAppppAgettgtteAtttAAttAtpoooopopkeogeeettgtAAttAtAtttpopptoAokpopooooAooeoopopptoopgpAAootAtgtpgeeeeegegeAkeAgtoAoAooepgeegegeegekeegtoAAttttttggeegkeegggetgggggeggegeAgpoooktoppoopApoooAtAeAgegegoegeAgpeotppogpoppppoppoppoootAtAAAtApopoopooooopopppopoppoottoopopookAtAAAtettApAtttooAAtteeoAttppeAgtpeegoeeAtoAteeAeeppopekotktetppgpkgktopAAtkkgegttAAtoopopkeAApgoAotteegegeogkoggpAggpkAgAttttAAtAttAteeeopoetAttAtkeoAopgtAtktgtgttopooppgopppppppopeooAptoopopAookApoggtpttttoAoppoopAppoAoppooppptpAooppppppoooAAAtttttttAtteegggeeoeegeoeggkettkAAoAkAAteeggggkAgAtpAAAttAtAAAptAeppAAAopppAApkeeokpeegpppekpegeeeteoopoApoookoogggegekopo'"
            ],
            "application/vnd.google.colaboratory.intrinsic+json": {
              "type": "string"
            }
          },
          "metadata": {},
          "execution_count": 15
        }
      ]
    },
    {
      "cell_type": "code",
      "source": [
        "!pip install hmmlearn\n",
        "from hmmlearn import hmm"
      ],
      "metadata": {
        "colab": {
          "base_uri": "https://localhost:8080/"
        },
        "id": "NspxaPBJOU1K",
        "outputId": "4ab0f70d-6610-4e64-db0e-b2e5a6bdaf81"
      },
      "execution_count": 18,
      "outputs": [
        {
          "output_type": "stream",
          "name": "stdout",
          "text": [
            "Collecting hmmlearn\n",
            "  Downloading hmmlearn-0.2.7-cp37-cp37m-manylinux_2_12_x86_64.manylinux2010_x86_64.whl (129 kB)\n",
            "\u001b[?25l\r\u001b[K     |██▌                             | 10 kB 30.2 MB/s eta 0:00:01\r\u001b[K     |█████                           | 20 kB 36.9 MB/s eta 0:00:01\r\u001b[K     |███████▋                        | 30 kB 26.8 MB/s eta 0:00:01\r\u001b[K     |██████████                      | 40 kB 14.3 MB/s eta 0:00:01\r\u001b[K     |████████████▋                   | 51 kB 12.6 MB/s eta 0:00:01\r\u001b[K     |███████████████▏                | 61 kB 14.8 MB/s eta 0:00:01\r\u001b[K     |█████████████████▊              | 71 kB 14.5 MB/s eta 0:00:01\r\u001b[K     |████████████████████▏           | 81 kB 14.1 MB/s eta 0:00:01\r\u001b[K     |██████████████████████▊         | 92 kB 15.5 MB/s eta 0:00:01\r\u001b[K     |█████████████████████████▎      | 102 kB 14.0 MB/s eta 0:00:01\r\u001b[K     |███████████████████████████▊    | 112 kB 14.0 MB/s eta 0:00:01\r\u001b[K     |██████████████████████████████▎ | 122 kB 14.0 MB/s eta 0:00:01\r\u001b[K     |████████████████████████████████| 129 kB 14.0 MB/s \n",
            "\u001b[?25hRequirement already satisfied: numpy>=1.10 in /usr/local/lib/python3.7/dist-packages (from hmmlearn) (1.21.5)\n",
            "Requirement already satisfied: scipy>=0.19 in /usr/local/lib/python3.7/dist-packages (from hmmlearn) (1.4.1)\n",
            "Requirement already satisfied: scikit-learn>=0.16 in /usr/local/lib/python3.7/dist-packages (from hmmlearn) (1.0.2)\n",
            "Requirement already satisfied: threadpoolctl>=2.0.0 in /usr/local/lib/python3.7/dist-packages (from scikit-learn>=0.16->hmmlearn) (3.1.0)\n",
            "Requirement already satisfied: joblib>=0.11 in /usr/local/lib/python3.7/dist-packages (from scikit-learn>=0.16->hmmlearn) (1.1.0)\n",
            "Installing collected packages: hmmlearn\n",
            "Successfully installed hmmlearn-0.2.7\n"
          ]
        }
      ]
    },
    {
      "cell_type": "code",
      "source": [
        "txt_arr = [c for c in sound]\n",
        "print(txt_arr)\n",
        "text_idx = [[get_idx(val)] for val in txt_arr]\n",
        "print(text_idx)"
      ],
      "metadata": {
        "colab": {
          "base_uri": "https://localhost:8080/"
        },
        "id": "V_MwdykvOD40",
        "outputId": "c6031c1a-e056-489f-8950-daf3ce0c05ed"
      },
      "execution_count": 40,
      "outputs": [
        {
          "output_type": "stream",
          "name": "stdout",
          "text": [
            "['e', 'o', 'g', 'g', 'e', 'g', 'g', 'A', 'e', 'g', 'g', 'e', 'p', 'g', 'p', 'p', 'p', 'o', 'p', 'p', 'o', 'g', 'o', 'p', 'p', 'p', 'g', 'o', 'p', 'p', 'o', 'o', 'p', 'e', 'g', 'A', 'A', 'o', 'A', 'A', 'A', 't', 'A', 't', 't', 't', 'o', 'o', 'e', 'p', 'o', 'o', 'p', 'p', 't', 'e', 'e', 'e', 'e', 'o', 't', 'p', 'o', 'p', 'p', 'p', 'e', 'e', 'o', 'e', 'p', 'o', 'o', 'o', 'p', 'o', 'p', 'g', 'o', 'o', 'o', 'e', 'p', 'o', 'e', 'p', 'o', 't', 'p', 'o', 'e', 'g', 'o', 'g', 'g', 'g', 'g', 'g', 'k', 'e', 'g', 'g', 'p', 'o', 'g', 'o', 'p', 'o', 'p', 'e', 'A', 't', 'A', 't', 't', 'A', 'o', 'A', 'p', 'A', 't', 't', 't', 'A', 'g', 'g', 'e', 'A', 'g', 'e', 'g', 'e', 't', 't', 't', 't', 'A', 'A', 'A', 'A', 't', 'o', 'e', 'e', 'g', 'g', 'e', 't', 'e', 'o', 'A', 'o', 'p', 'o', 'p', 'o', 't', 'o', 'k', 't', 't', 't', 'p', 'o', 'e', 'p', 'e', 'g', 'p', 'g', 't', 'g', 'A', 'g', 'A', 'e', 'e', 'p', 'p', 'e', 'o', 'o', 'o', 'o', 'p', 'g', 'e', 'g', 'g', 'p', 'A', 'A', 'A', 'A', 'g', 'A', 't', 'g', 'e', 'g', 'o', 'g', 'o', 'e', 'e', 'p', 'A', 't', 'A', 't', 'A', 'A', 'o', 't', 'A', 'A', 'A', 't', 't', 't', 'A', 't', 'k', 'A', 'A', 'A', 't', 'A', 'A', 'k', 't', 'A', 'A', 'A', 't', 't', 't', 'A', 't', 'A', 'A', 'o', 'A', 't', 't', 'e', 'e', 'o', 'o', 'p', 'o', 'A', 'o', 'A', 't', 'o', 'A', 'A', 't', 'A', 'A', 'A', 'p', 'g', 'e', 'o', 'e', 'e', 'e', 'e', 'o', 'e', 'e', 'e', 'g', 't', 'e', 'o', 'A', 'o', 'p', 'e', 'A', 'k', 'o', 'p', 'g', 'p', 'e', 'A', 'g', 'e', 't', 'A', 'e', 'e', 'o', 't', 'A', 't', 't', 'A', 'A', 'e', 'A', 'A', 'k', 't', 't', 't', 'k', 'A', 'p', 't', 'A', 'e', 't', 'A', 't', 't', 'A', 'k', 'A', 'A', 'A', 't', 't', 'A', 'A', 'k', 'A', 'A', 'A', 't', 't', 'A', 'A', 'A', 'A', 'g', 'A', 'g', 'k', 'g', 'o', 'g', 'p', 'p', 'g', 'o', 'o', 'A', 'p', 'k', 'p', 'o', 'A', 'o', 'p', 'o', 'p', 'p', 't', 'o', 't', 'e', 'g', 'o', 'A', 'p', 'p', 'p', 'p', 'A', 'g', 'e', 't', 't', 'g', 't', 't', 'e', 'A', 't', 't', 't', 'A', 'A', 't', 't', 'A', 't', 'p', 'o', 'o', 'o', 'o', 'p', 'o', 'p', 'k', 'e', 'o', 'g', 'e', 'e', 'e', 't', 't', 'g', 't', 'A', 'A', 't', 't', 'A', 't', 'A', 't', 't', 't', 'p', 'o', 'p', 'p', 't', 'o', 'A', 'o', 'k', 'p', 'o', 'p', 'o', 'o', 'o', 'o', 'A', 'o', 'o', 'e', 'o', 'o', 'p', 'o', 'p', 'p', 't', 'o', 'o', 'p', 'g', 'p', 'A', 'A', 'o', 'o', 't', 'A', 't', 'g', 't', 'p', 'g', 'e', 'e', 'e', 'e', 'e', 'g', 'e', 'g', 'e', 'A', 'k', 'e', 'A', 'g', 't', 'o', 'A', 'o', 'A', 'o', 'o', 'e', 'p', 'g', 'e', 'e', 'g', 'e', 'g', 'e', 'e', 'g', 'e', 'k', 'e', 'e', 'g', 't', 'o', 'A', 'A', 't', 't', 't', 't', 't', 't', 'g', 'g', 'e', 'e', 'g', 'k', 'e', 'e', 'g', 'g', 'g', 'e', 't', 'g', 'g', 'g', 'g', 'g', 'e', 'g', 'g', 'e', 'g', 'e', 'A', 'g', 'p', 'o', 'o', 'o', 'k', 't', 'o', 'p', 'p', 'o', 'o', 'p', 'A', 'p', 'o', 'o', 'o', 'A', 't', 'A', 'e', 'A', 'g', 'e', 'g', 'e', 'g', 'o', 'e', 'g', 'e', 'A', 'g', 'p', 'e', 'o', 't', 'p', 'p', 'o', 'g', 'p', 'o', 'p', 'p', 'p', 'p', 'o', 'p', 'p', 'o', 'p', 'p', 'o', 'o', 'o', 't', 'A', 't', 'A', 'A', 'A', 't', 'A', 'p', 'o', 'p', 'o', 'o', 'p', 'o', 'o', 'o', 'o', 'o', 'p', 'o', 'p', 'p', 'p', 'o', 'p', 'o', 'p', 'p', 'o', 'o', 't', 't', 'o', 'o', 'p', 'o', 'p', 'o', 'o', 'k', 'A', 't', 'A', 'A', 'A', 't', 'e', 't', 't', 'A', 'p', 'A', 't', 't', 't', 'o', 'o', 'A', 'A', 't', 't', 'e', 'e', 'o', 'A', 't', 't', 'p', 'p', 'e', 'A', 'g', 't', 'p', 'e', 'e', 'g', 'o', 'e', 'e', 'A', 't', 'o', 'A', 't', 'e', 'e', 'A', 'e', 'e', 'p', 'p', 'o', 'p', 'e', 'k', 'o', 't', 'k', 't', 'e', 't', 'p', 'p', 'g', 'p', 'k', 'g', 'k', 't', 'o', 'p', 'A', 'A', 't', 'k', 'k', 'g', 'e', 'g', 't', 't', 'A', 'A', 't', 'o', 'o', 'p', 'o', 'p', 'k', 'e', 'A', 'A', 'p', 'g', 'o', 'A', 'o', 't', 't', 'e', 'e', 'g', 'e', 'g', 'e', 'o', 'g', 'k', 'o', 'g', 'g', 'p', 'A', 'g', 'g', 'p', 'k', 'A', 'g', 'A', 't', 't', 't', 't', 'A', 'A', 't', 'A', 't', 't', 'A', 't', 'e', 'e', 'e', 'o', 'p', 'o', 'e', 't', 'A', 't', 't', 'A', 't', 'k', 'e', 'o', 'A', 'o', 'p', 'g', 't', 'A', 't', 'k', 't', 'g', 't', 'g', 't', 't', 'o', 'p', 'o', 'o', 'p', 'p', 'g', 'o', 'p', 'p', 'p', 'p', 'p', 'p', 'p', 'o', 'p', 'e', 'o', 'o', 'A', 'p', 't', 'o', 'o', 'p', 'o', 'p', 'A', 'o', 'o', 'k', 'A', 'p', 'o', 'g', 'g', 't', 'p', 't', 't', 't', 't', 'o', 'A', 'o', 'p', 'p', 'o', 'o', 'p', 'A', 'p', 'p', 'o', 'A', 'o', 'p', 'p', 'o', 'o', 'p', 'p', 'p', 't', 'p', 'A', 'o', 'o', 'p', 'p', 'p', 'p', 'p', 'p', 'o', 'o', 'o', 'A', 'A', 'A', 't', 't', 't', 't', 't', 't', 't', 'A', 't', 't', 'e', 'e', 'g', 'g', 'g', 'e', 'e', 'o', 'e', 'e', 'g', 'e', 'o', 'e', 'g', 'g', 'k', 'e', 't', 't', 'k', 'A', 'A', 'o', 'A', 'k', 'A', 'A', 't', 'e', 'e', 'g', 'g', 'g', 'g', 'k', 'A', 'g', 'A', 't', 'p', 'A', 'A', 'A', 't', 't', 'A', 't', 'A', 'A', 'A', 'p', 't', 'A', 'e', 'p', 'p', 'A', 'A', 'A', 'o', 'p', 'p', 'p', 'A', 'A', 'p', 'k', 'e', 'e', 'o', 'k', 'p', 'e', 'e', 'g', 'p', 'p', 'p', 'e', 'k', 'p', 'e', 'g', 'e', 'e', 'e', 't', 'e', 'o', 'o', 'p', 'o', 'A', 'p', 'o', 'o', 'o', 'k', 'o', 'o', 'g', 'g', 'g', 'e', 'g', 'e', 'k', 'o', 'p', 'o']\n",
            "[[2], [1], [5], [5], [2], [5], [5], [0], [2], [5], [5], [2], [4], [5], [4], [4], [4], [1], [4], [4], [1], [5], [1], [4], [4], [4], [5], [1], [4], [4], [1], [1], [4], [2], [5], [0], [0], [1], [0], [0], [0], [3], [0], [3], [3], [3], [1], [1], [2], [4], [1], [1], [4], [4], [3], [2], [2], [2], [2], [1], [3], [4], [1], [4], [4], [4], [2], [2], [1], [2], [4], [1], [1], [1], [4], [1], [4], [5], [1], [1], [1], [2], [4], [1], [2], [4], [1], [3], [4], [1], [2], [5], [1], [5], [5], [5], [5], [5], [6], [2], [5], [5], [4], [1], [5], [1], [4], [1], [4], [2], [0], [3], [0], [3], [3], [0], [1], [0], [4], [0], [3], [3], [3], [0], [5], [5], [2], [0], [5], [2], [5], [2], [3], [3], [3], [3], [0], [0], [0], [0], [3], [1], [2], [2], [5], [5], [2], [3], [2], [1], [0], [1], [4], [1], [4], [1], [3], [1], [6], [3], [3], [3], [4], [1], [2], [4], [2], [5], [4], [5], [3], [5], [0], [5], [0], [2], [2], [4], [4], [2], [1], [1], [1], [1], [4], [5], [2], [5], [5], [4], [0], [0], [0], [0], [5], [0], [3], [5], [2], [5], [1], [5], [1], [2], [2], [4], [0], [3], [0], [3], [0], [0], [1], [3], [0], [0], [0], [3], [3], [3], [0], [3], [6], [0], [0], [0], [3], [0], [0], [6], [3], [0], [0], [0], [3], [3], [3], [0], [3], [0], [0], [1], [0], [3], [3], [2], [2], [1], [1], [4], [1], [0], [1], [0], [3], [1], [0], [0], [3], [0], [0], [0], [4], [5], [2], [1], [2], [2], [2], [2], [1], [2], [2], [2], [5], [3], [2], [1], [0], [1], [4], [2], [0], [6], [1], [4], [5], [4], [2], [0], [5], [2], [3], [0], [2], [2], [1], [3], [0], [3], [3], [0], [0], [2], [0], [0], [6], [3], [3], [3], [6], [0], [4], [3], [0], [2], [3], [0], [3], [3], [0], [6], [0], [0], [0], [3], [3], [0], [0], [6], [0], [0], [0], [3], [3], [0], [0], [0], [0], [5], [0], [5], [6], [5], [1], [5], [4], [4], [5], [1], [1], [0], [4], [6], [4], [1], [0], [1], [4], [1], [4], [4], [3], [1], [3], [2], [5], [1], [0], [4], [4], [4], [4], [0], [5], [2], [3], [3], [5], [3], [3], [2], [0], [3], [3], [3], [0], [0], [3], [3], [0], [3], [4], [1], [1], [1], [1], [4], [1], [4], [6], [2], [1], [5], [2], [2], [2], [3], [3], [5], [3], [0], [0], [3], [3], [0], [3], [0], [3], [3], [3], [4], [1], [4], [4], [3], [1], [0], [1], [6], [4], [1], [4], [1], [1], [1], [1], [0], [1], [1], [2], [1], [1], [4], [1], [4], [4], [3], [1], [1], [4], [5], [4], [0], [0], [1], [1], [3], [0], [3], [5], [3], [4], [5], [2], [2], [2], [2], [2], [5], [2], [5], [2], [0], [6], [2], [0], [5], [3], [1], [0], [1], [0], [1], [1], [2], [4], [5], [2], [2], [5], [2], [5], [2], [2], [5], [2], [6], [2], [2], [5], [3], [1], [0], [0], [3], [3], [3], [3], [3], [3], [5], [5], [2], [2], [5], [6], [2], [2], [5], [5], [5], [2], [3], [5], [5], [5], [5], [5], [2], [5], [5], [2], [5], [2], [0], [5], [4], [1], [1], [1], [6], [3], [1], [4], [4], [1], [1], [4], [0], [4], [1], [1], [1], [0], [3], [0], [2], [0], [5], [2], [5], [2], [5], [1], [2], [5], [2], [0], [5], [4], [2], [1], [3], [4], [4], [1], [5], [4], [1], [4], [4], [4], [4], [1], [4], [4], [1], [4], [4], [1], [1], [1], [3], [0], [3], [0], [0], [0], [3], [0], [4], [1], [4], [1], [1], [4], [1], [1], [1], [1], [1], [4], [1], [4], [4], [4], [1], [4], [1], [4], [4], [1], [1], [3], [3], [1], [1], [4], [1], [4], [1], [1], [6], [0], [3], [0], [0], [0], [3], [2], [3], [3], [0], [4], [0], [3], [3], [3], [1], [1], [0], [0], [3], [3], [2], [2], [1], [0], [3], [3], [4], [4], [2], [0], [5], [3], [4], [2], [2], [5], [1], [2], [2], [0], [3], [1], [0], [3], [2], [2], [0], [2], [2], [4], [4], [1], [4], [2], [6], [1], [3], [6], [3], [2], [3], [4], [4], [5], [4], [6], [5], [6], [3], [1], [4], [0], [0], [3], [6], [6], [5], [2], [5], [3], [3], [0], [0], [3], [1], [1], [4], [1], [4], [6], [2], [0], [0], [4], [5], [1], [0], [1], [3], [3], [2], [2], [5], [2], [5], [2], [1], [5], [6], [1], [5], [5], [4], [0], [5], [5], [4], [6], [0], [5], [0], [3], [3], [3], [3], [0], [0], [3], [0], [3], [3], [0], [3], [2], [2], [2], [1], [4], [1], [2], [3], [0], [3], [3], [0], [3], [6], [2], [1], [0], [1], [4], [5], [3], [0], [3], [6], [3], [5], [3], [5], [3], [3], [1], [4], [1], [1], [4], [4], [5], [1], [4], [4], [4], [4], [4], [4], [4], [1], [4], [2], [1], [1], [0], [4], [3], [1], [1], [4], [1], [4], [0], [1], [1], [6], [0], [4], [1], [5], [5], [3], [4], [3], [3], [3], [3], [1], [0], [1], [4], [4], [1], [1], [4], [0], [4], [4], [1], [0], [1], [4], [4], [1], [1], [4], [4], [4], [3], [4], [0], [1], [1], [4], [4], [4], [4], [4], [4], [1], [1], [1], [0], [0], [0], [3], [3], [3], [3], [3], [3], [3], [0], [3], [3], [2], [2], [5], [5], [5], [2], [2], [1], [2], [2], [5], [2], [1], [2], [5], [5], [6], [2], [3], [3], [6], [0], [0], [1], [0], [6], [0], [0], [3], [2], [2], [5], [5], [5], [5], [6], [0], [5], [0], [3], [4], [0], [0], [0], [3], [3], [0], [3], [0], [0], [0], [4], [3], [0], [2], [4], [4], [0], [0], [0], [1], [4], [4], [4], [0], [0], [4], [6], [2], [2], [1], [6], [4], [2], [2], [5], [4], [4], [4], [2], [6], [4], [2], [5], [2], [2], [2], [3], [2], [1], [1], [4], [1], [0], [4], [1], [1], [1], [6], [1], [1], [5], [5], [5], [2], [5], [2], [6], [1], [4], [1]]\n"
          ]
        }
      ]
    },
    {
      "cell_type": "code",
      "source": [
        "# using HMM multinomial for 3 speakers\n",
        "model = hmm.MultinomialHMM(n_components=3, n_iter=1000, init_params=\"e\")\n",
        "\n",
        "#for transmission matrix, since people switch after 10 words\n",
        "# there's a 0.9 probability of staying as the current speaker\n",
        "# there's a 0.05 probability of switching to each speaker (0.10/2)\n",
        "transition = np.array([[0.90, 0.05, 0.05],\n",
        "                        [0.05, 0.90, 0.05],\n",
        "                        [0.05, 0.05, 0.90]])\n",
        "\n",
        "model.transmat_ = transition\n",
        "model.fit(text_idx)\n",
        "cur_x = model.score(text_idx)\n",
        "\n",
        "print(cur_x)\n",
        "X = model.predict_proba(text_idx)\n",
        "print(X)"
      ],
      "metadata": {
        "colab": {
          "base_uri": "https://localhost:8080/"
        },
        "id": "wycuBjhMORxT",
        "outputId": "cdeeabb3-e3dc-430d-e266-b3cc45ab24c2"
      },
      "execution_count": 41,
      "outputs": [
        {
          "output_type": "stream",
          "name": "stdout",
          "text": [
            "-1647.3761752853293\n",
            "[[1.00000000e+00 3.60904194e-20 3.58707840e-30]\n",
            " [9.61542429e-01 3.36831191e-02 4.77445171e-03]\n",
            " [9.94731666e-01 4.20611914e-03 1.06221495e-03]\n",
            " ...\n",
            " [1.23413031e-01 8.69411254e-01 7.17571512e-03]\n",
            " [3.77224138e-02 9.59550559e-01 2.72702762e-03]\n",
            " [3.41420463e-02 9.57447216e-01 8.41073770e-03]]\n"
          ]
        }
      ]
    },
    {
      "cell_type": "code",
      "source": [
        "import matplotlib.pyplot as plt\n",
        "\n",
        "# mapping outcome to word\n",
        "word_idx = [i for i in range(len(sound))]\n",
        "outcome = {f\"Speaker {i+1}\": list(X.T[i]) for i in range(3)}\n",
        "\n",
        "plt.stackplot(word_idx, outcome.values(),\n",
        "             labels=outcome.keys())\n",
        "plt.legend()\n",
        "plt.title('Stack plot for speaker probability at each word')\n",
        "plt.xlabel('Word index')\n",
        "plt.ylabel('Probability stack')\n",
        "\n",
        "plt.show()"
      ],
      "metadata": {
        "colab": {
          "base_uri": "https://localhost:8080/",
          "height": 295
        },
        "id": "Kj8X_zqEPctt",
        "outputId": "219f9cec-3565-4bfd-8599-cc73d99e7844"
      },
      "execution_count": 49,
      "outputs": [
        {
          "output_type": "display_data",
          "data": {
            "text/plain": [
              "<Figure size 432x288 with 1 Axes>"
            ],
            "image/png": "[encoded data removed]"
          },
          "metadata": {
            "needs_background": "light"
          }
        }
      ]
    },
    {
      "cell_type": "code",
      "source": [
        ""
      ],
      "metadata": {
        "id": "mqfrCl63Qmdr"
      },
      "execution_count": null,
      "outputs": []
    }
  ]
}