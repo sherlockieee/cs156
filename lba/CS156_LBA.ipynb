{
  "nbformat": 4,
  "nbformat_minor": 0,
  "metadata": {
    "colab": {
      "name": "CS156 LBA.ipynb",
      "provenance": [],
      "authorship_tag": "ABX9TyMILouELI6S8uI2/HG8tSTS",
      "include_colab_link": true
    },
    "kernelspec": {
      "name": "python3",
      "display_name": "Python 3"
    },
    "language_info": {
      "name": "python"
    }
  },
  "cells": [
    {
      "cell_type": "markdown",
      "metadata": {
        "id": "view-in-github",
        "colab_type": "text"
      },
      "source": [
        "<a href=\"https://colab.research.google.com/github/sherlockieee/cs156/blob/main/lba/CS156_LBA.ipynb\" target=\"_parent\"><img src=\"https://colab.research.google.com/assets/colab-badge.svg\" alt=\"Open In Colab\"/></a>"
      ]
    },
    {
      "cell_type": "markdown",
      "source": [
        "Thanks to Finn for helping me with the code, and Khanh for our coworking sessions."
      ],
      "metadata": {
        "id": "NUkfHmBg92Ng"
      }
    },
    {
      "cell_type": "code",
      "execution_count": null,
      "metadata": {
        "id": "fyMPrrcp9yDY"
      },
      "outputs": [],
      "source": [
        ""
      ]
    }
  ]
}